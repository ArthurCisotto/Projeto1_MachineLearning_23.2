{
 "cells": [
  {
   "cell_type": "markdown",
   "metadata": {},
   "source": [
    "# Projeto de Regressão: Predição de Preços de Imóveis com o Conjunto de Dados \"Ames\"\n",
    "Objetivo: Desenvolver um modelo de regressão para prever o logaritmo da base 10 dos preços de imóveis utilizando o conjunto de dados \"Ames\".  \n",
    "  \n",
    "**Alunos: Arthur Cisotto, Marlon Pereira**"
   ]
  },
  {
   "cell_type": "markdown",
   "metadata": {},
   "source": [
    "### 1. Leitura dos dados e importação das bibliotecas"
   ]
  },
  {
   "cell_type": "code",
   "execution_count": 137,
   "metadata": {},
   "outputs": [],
   "source": [
    "import pickle\n",
    "import pathlib\n",
    "\n",
    "import numpy as np\n",
    "import pandas as pd\n",
    "import matplotlib.pyplot as plt"
   ]
  },
  {
   "cell_type": "code",
   "execution_count": 138,
   "metadata": {},
   "outputs": [
    {
     "name": "stdout",
     "output_type": "stream",
     "text": [
      "c:\\Users\\tutuc\\Dropbox\\A - ARTHUR\\6oSemestre\\ML\\Projeto1_MachineLearning_23.2\\data\n"
     ]
    }
   ],
   "source": [
    "DATA_DIR = pathlib.Path.cwd().parent / 'data'\n",
    "print(DATA_DIR)"
   ]
  },
  {
   "cell_type": "code",
   "execution_count": 139,
   "metadata": {},
   "outputs": [],
   "source": [
    "clean_data_path = DATA_DIR / 'processed' / 'ames_clean.pkl'"
   ]
  },
  {
   "cell_type": "code",
   "execution_count": 140,
   "metadata": {},
   "outputs": [],
   "source": [
    "with open(clean_data_path, 'rb') as file:\n",
    "    data = pickle.load(file)"
   ]
  },
  {
   "cell_type": "code",
   "execution_count": 141,
   "metadata": {},
   "outputs": [
    {
     "name": "stdout",
     "output_type": "stream",
     "text": [
      "<class 'pandas.core.frame.DataFrame'>\n",
      "Index: 2877 entries, 0 to 2929\n",
      "Data columns (total 70 columns):\n",
      " #   Column           Non-Null Count  Dtype   \n",
      "---  ------           --------------  -----   \n",
      " 0   MS.SubClass      2877 non-null   category\n",
      " 1   MS.Zoning        2877 non-null   category\n",
      " 2   Lot.Frontage     2877 non-null   float64 \n",
      " 3   Lot.Area         2877 non-null   float64 \n",
      " 4   Lot.Shape        2877 non-null   category\n",
      " 5   Land.Contour     2877 non-null   category\n",
      " 6   Lot.Config       2877 non-null   category\n",
      " 7   Land.Slope       2877 non-null   category\n",
      " 8   Neighborhood     2877 non-null   category\n",
      " 9   Bldg.Type        2877 non-null   category\n",
      " 10  House.Style      2877 non-null   category\n",
      " 11  Overall.Qual     2877 non-null   category\n",
      " 12  Overall.Cond     2877 non-null   category\n",
      " 13  Roof.Style       2877 non-null   category\n",
      " 14  Mas.Vnr.Type     2877 non-null   category\n",
      " 15  Mas.Vnr.Area     2877 non-null   float64 \n",
      " 16  Exter.Qual       2877 non-null   category\n",
      " 17  Exter.Cond       2877 non-null   category\n",
      " 18  Foundation       2877 non-null   category\n",
      " 19  Bsmt.Qual        2877 non-null   category\n",
      " 20  Bsmt.Cond        2877 non-null   category\n",
      " 21  Bsmt.Exposure    2877 non-null   category\n",
      " 22  BsmtFin.Type.1   2877 non-null   category\n",
      " 23  BsmtFin.SF.1     2877 non-null   float64 \n",
      " 24  BsmtFin.Type.2   2877 non-null   category\n",
      " 25  BsmtFin.SF.2     2877 non-null   float64 \n",
      " 26  Bsmt.Unf.SF      2877 non-null   float64 \n",
      " 27  Total.Bsmt.SF    2877 non-null   float64 \n",
      " 28  Heating.QC       2877 non-null   category\n",
      " 29  Central.Air      2877 non-null   category\n",
      " 30  Electrical       2877 non-null   category\n",
      " 31  X1st.Flr.SF      2877 non-null   float64 \n",
      " 32  X2nd.Flr.SF      2877 non-null   float64 \n",
      " 33  Low.Qual.Fin.SF  2877 non-null   float64 \n",
      " 34  Gr.Liv.Area      2877 non-null   float64 \n",
      " 35  Bsmt.Full.Bath   2877 non-null   float64 \n",
      " 36  Bsmt.Half.Bath   2877 non-null   float64 \n",
      " 37  Full.Bath        2877 non-null   float64 \n",
      " 38  Half.Bath        2877 non-null   float64 \n",
      " 39  Bedroom.AbvGr    2877 non-null   float64 \n",
      " 40  Kitchen.AbvGr    2877 non-null   float64 \n",
      " 41  Kitchen.Qual     2877 non-null   category\n",
      " 42  TotRms.AbvGrd    2877 non-null   float64 \n",
      " 43  Functional       2877 non-null   category\n",
      " 44  Fireplaces       2877 non-null   float64 \n",
      " 45  Garage.Type      2877 non-null   category\n",
      " 46  Garage.Finish    2877 non-null   category\n",
      " 47  Garage.Cars      2877 non-null   float64 \n",
      " 48  Garage.Area      2877 non-null   float64 \n",
      " 49  Paved.Drive      2877 non-null   category\n",
      " 50  Wood.Deck.SF     2877 non-null   float64 \n",
      " 51  Open.Porch.SF    2877 non-null   float64 \n",
      " 52  Enclosed.Porch   2877 non-null   float64 \n",
      " 53  X3Ssn.Porch      2877 non-null   float64 \n",
      " 54  Screen.Porch     2877 non-null   float64 \n",
      " 55  Pool.Area        2877 non-null   float64 \n",
      " 56  Fence            2877 non-null   category\n",
      " 57  Misc.Val         2877 non-null   float64 \n",
      " 58  Mo.Sold          2877 non-null   float64 \n",
      " 59  Yr.Sold          2877 non-null   float64 \n",
      " 60  Sale.Type        2877 non-null   category\n",
      " 61  Sale.Condition   2877 non-null   category\n",
      " 62  SalePrice        2877 non-null   float64 \n",
      " 63  Condition        2877 non-null   category\n",
      " 64  HasShed          2877 non-null   bool    \n",
      " 65  HasAlley         2877 non-null   bool    \n",
      " 66  Exterior         2877 non-null   category\n",
      " 67  Garage.Age       2877 non-null   float64 \n",
      " 68  Remod.Age        2877 non-null   float64 \n",
      " 69  House.Age        2877 non-null   float64 \n",
      "dtypes: bool(2), category(34), float64(34)\n",
      "memory usage: 889.4 KB\n"
     ]
    }
   ],
   "source": [
    "data.info()"
   ]
  },
  {
   "cell_type": "code",
   "execution_count": 142,
   "metadata": {},
   "outputs": [],
   "source": [
    "model_data = data.copy()"
   ]
  },
  {
   "cell_type": "markdown",
   "metadata": {},
   "source": [
    "### 2. Preparação dos dados e Feature Engineering"
   ]
  },
  {
   "cell_type": "markdown",
   "metadata": {},
   "source": [
    "#### 2.1. Features numéricas\n",
    "Para as features numéricas, podemos realizar as seguintes operações:\n",
    "1. **Transformações Logarítmicas**: Para as variáveis que são altamente assimétricas, podemos aplicar transformações logarítmicas para torná-las mais normalmente distribuídas.\n",
    "2. **Padronização ou Normalização**: Podemos querer padronizar ou normalizar algumas das variáveis para que elas estejam na mesma escala.\n",
    "3. **Criação de Variáveis Polinomiais**: Variáveis polinomiais podem ser criadas a partir das variáveis existentes, que podem ajudar a capturar relações não lineares."
   ]
  },
  {
   "cell_type": "code",
   "execution_count": 143,
   "metadata": {},
   "outputs": [
    {
     "data": {
      "text/plain": [
       "Index(['Lot.Frontage', 'Lot.Area', 'Mas.Vnr.Area', 'BsmtFin.SF.1',\n",
       "       'BsmtFin.SF.2', 'Bsmt.Unf.SF', 'Total.Bsmt.SF', 'X1st.Flr.SF',\n",
       "       'X2nd.Flr.SF', 'Low.Qual.Fin.SF', 'Gr.Liv.Area', 'Bsmt.Full.Bath',\n",
       "       'Bsmt.Half.Bath', 'Full.Bath', 'Half.Bath', 'Bedroom.AbvGr',\n",
       "       'Kitchen.AbvGr', 'TotRms.AbvGrd', 'Fireplaces', 'Garage.Cars',\n",
       "       'Garage.Area', 'Wood.Deck.SF', 'Open.Porch.SF', 'Enclosed.Porch',\n",
       "       'X3Ssn.Porch', 'Screen.Porch', 'Pool.Area', 'Misc.Val', 'Mo.Sold',\n",
       "       'Yr.Sold', 'SalePrice', 'Garage.Age', 'Remod.Age', 'House.Age'],\n",
       "      dtype='object')"
      ]
     },
     "execution_count": 143,
     "metadata": {},
     "output_type": "execute_result"
    }
   ],
   "source": [
    "numeric_features = model_data.select_dtypes(include=[np.number])\n",
    "numeric_features.columns"
   ]
  },
  {
   "cell_type": "code",
   "execution_count": 144,
   "metadata": {},
   "outputs": [],
   "source": [
    "def plot_numericals(data, cols):\n",
    "    summary = data[cols] \\\n",
    "        .describe() \\\n",
    "        .transpose() \\\n",
    "        .sort_values(by='count')\n",
    "\n",
    "    print(summary)\n",
    "\n",
    "    n = data.shape[0]\n",
    "    b = int(np.sqrt(n))\n",
    "    for k, (col, val) in enumerate(summary['count'].items()):\n",
    "        plt.figure()\n",
    "        data[col].plot.hist(bins=b)\n",
    "        plt.title(f'{col}, n={int(val)}')\n",
    "        plt.show()"
   ]
  },
  {
   "cell_type": "markdown",
   "metadata": {},
   "source": [
    "#### `Lot.Frontage`\n",
    "- Lot Frontage (Continuous): Linear feet of street connected to property\n",
    "\n",
    "A feature `Lot.Frontage` representa o tamanho da rua conectada à propriedade. Podemos ver que a distribuição é altamente assimétrica, com uma cauda longa à direita. Podemos aplicar uma transformação logarítmica para torná-la mais normalmente distribuída."
   ]
  },
  {
   "cell_type": "code",
   "execution_count": 145,
   "metadata": {},
   "outputs": [
    {
     "name": "stdout",
     "output_type": "stream",
     "text": [
      "               count       mean        std   min   25%   50%   75%    max\n",
      "Lot.Frontage  2877.0  69.202989  21.204969  21.0  60.0  68.0  79.0  313.0\n"
     ]
    },
    {
     "data": {
      "image/png": "[encoded data removed]",
      "text/plain": [
       "<Figure size 640x480 with 1 Axes>"
      ]
     },
     "metadata": {},
     "output_type": "display_data"
    }
   ],
   "source": [
    "plot_numericals(model_data, ['Lot.Frontage'])"
   ]
  },
  {
   "cell_type": "code",
   "execution_count": 146,
   "metadata": {},
   "outputs": [
    {
     "name": "stdout",
     "output_type": "stream",
     "text": [
      "               count      mean       std       min       25%       50%  \\\n",
      "Lot.Frontage  2877.0  1.819277  0.140561  1.322219  1.778151  1.832509   \n",
      "\n",
      "                   75%       max  \n",
      "Lot.Frontage  1.897627  2.495544  \n"
     ]
    },
    {
     "data": {
      "image/png": "[encoded data removed]",
      "text/plain": [
       "<Figure size 640x480 with 1 Axes>"
      ]
     },
     "metadata": {},
     "output_type": "display_data"
    }
   ],
   "source": [
    "model_data['Lot.Frontage'] = model_data['Lot.Frontage'].apply(np.log10)\n",
    "plot_numericals(model_data, ['Lot.Frontage'])"
   ]
  },
  {
   "cell_type": "markdown",
   "metadata": {},
   "source": [
    "#### `Lot.Area`\n",
    "- Lot Area (Continuous): Lot size in square feet\n",
    "\n",
    "A feature `Lot.Area` representa o tamanho do lote em pés quadrados. Podemos ver que a distribuição é altamente assimétrica, com uma cauda longa à direita. Podemos aplicar uma transformação logarítmica para torná-la mais normalmente distribuída."
   ]
  },
  {
   "cell_type": "code",
   "execution_count": 147,
   "metadata": {},
   "outputs": [
    {
     "name": "stdout",
     "output_type": "stream",
     "text": [
      "           count          mean          std     min     25%     50%      75%  \\\n",
      "Lot.Area  2877.0  10171.366354  7833.442896  1470.0  7500.0  9490.0  11600.0   \n",
      "\n",
      "               max  \n",
      "Lot.Area  215245.0  \n"
     ]
    },
    {
     "data": {
      "image/png": "[encoded data removed]",
      "text/plain": [
       "<Figure size 640x480 with 1 Axes>"
      ]
     },
     "metadata": {},
     "output_type": "display_data"
    }
   ],
   "source": [
    "plot_numericals(model_data, ['Lot.Area'])"
   ]
  },
  {
   "cell_type": "code",
   "execution_count": 148,
   "metadata": {},
   "outputs": [
    {
     "name": "stdout",
     "output_type": "stream",
     "text": [
      "           count      mean       std       min       25%       50%       75%  \\\n",
      "Lot.Area  2877.0  3.951549  0.218039  3.167317  3.875061  3.977266  4.064458   \n",
      "\n",
      "               max  \n",
      "Lot.Area  5.332933  \n"
     ]
    },
    {
     "data": {
      "image/png": "[encoded data removed]",
      "text/plain": [
       "<Figure size 640x480 with 1 Axes>"
      ]
     },
     "metadata": {},
     "output_type": "display_data"
    }
   ],
   "source": [
    "model_data['Lot.Area'] = model_data['Lot.Area'].apply(np.log10)\n",
    "plot_numericals(model_data, ['Lot.Area'])"
   ]
  },
  {
   "cell_type": "markdown",
   "metadata": {},
   "source": [
    "#### `Mas.Vnr.Area`\n",
    "- Mas Vnr Area (Continuous): Masonry veneer area in square feet\n",
    "\n",
    "A feature `Mas.Vnr.Area` representa a área de alvenaria em pés quadrados. Podemos ver que a distribuição é altamente assimétrica, com uma cauda longa à direita. Podemos aplicar uma transformação logarítmica para torná-la mais normalmente distribuída. Se apenas aplicarmos uma transformação logarítmica, teremos um erro, pois existem valores nulos. Portanto, primeiro podemos somar 1 a todos os valores e, em seguida, aplicar a transformação logarítmica."
   ]
  },
  {
   "cell_type": "code",
   "execution_count": 149,
   "metadata": {},
   "outputs": [
    {
     "name": "stdout",
     "output_type": "stream",
     "text": [
      "               count       mean         std  min  25%  50%    75%     max\n",
      "Mas.Vnr.Area  2877.0  102.87626  179.732526  0.0  0.0  0.0  166.0  1600.0\n"
     ]
    },
    {
     "data": {
      "image/png": "[encoded data removed]",
      "text/plain": [
       "<Figure size 640x480 with 1 Axes>"
      ]
     },
     "metadata": {},
     "output_type": "display_data"
    }
   ],
   "source": [
    "plot_numericals(model_data, ['Mas.Vnr.Area'])"
   ]
  },
  {
   "cell_type": "code",
   "execution_count": 150,
   "metadata": {},
   "outputs": [
    {
     "name": "stdout",
     "output_type": "stream",
     "text": [
      "               count      mean       std  min  25%  50%       75%       max\n",
      "Mas.Vnr.Area  2877.0  0.916184  1.141249  0.0  0.0  0.0  2.222716  3.204391\n"
     ]
    },
    {
     "data": {
      "image/png": "[encoded data removed]",
      "text/plain": [
       "<Figure size 640x480 with 1 Axes>"
      ]
     },
     "metadata": {},
     "output_type": "display_data"
    }
   ],
   "source": [
    "# Adicionando uma constante antes de aplicar o logaritmo\n",
    "model_data['Mas.Vnr.Area'] = model_data['Mas.Vnr.Area'].apply(lambda x: np.log10(x+1))\n",
    "plot_numericals(model_data, ['Mas.Vnr.Area'])"
   ]
  },
  {
   "cell_type": "markdown",
   "metadata": {},
   "source": [
    "#### `BsmtFin.SF.1`\n",
    "- BsmtFin SF 1 (Continuous): Type 1 finished square feet\n",
    "\n",
    "A feature `BsmtFin.SF.1` representa a área acabada do porão do tipo 1 em pés quadrados. Podemos ver que a distribuição é altamente assimétrica, com uma cauda longa à direita. Podemos aplicar uma transformação logarítmica para torná-la mais normalmente distribuída. Se apenas aplicarmos uma transformação logarítmica, teremos um erro, pois existem valores nulos. Portanto, primeiro podemos somar 1 a todos os valores e, em seguida, aplicar a transformação logarítmica."
   ]
  },
  {
   "cell_type": "code",
   "execution_count": 151,
   "metadata": {},
   "outputs": [
    {
     "name": "stdout",
     "output_type": "stream",
     "text": [
      "               count        mean         std  min  25%    50%    75%     max\n",
      "BsmtFin.SF.1  2877.0  445.111922  456.415687  0.0  0.0  374.0  735.0  5644.0\n"
     ]
    },
    {
     "data": {
      "image/png": "[encoded data removed]",
      "text/plain": [
       "<Figure size 640x480 with 1 Axes>"
      ]
     },
     "metadata": {},
     "output_type": "display_data"
    }
   ],
   "source": [
    "plot_numericals(model_data, ['BsmtFin.SF.1'])"
   ]
  },
  {
   "cell_type": "code",
   "execution_count": 152,
   "metadata": {},
   "outputs": [
    {
     "name": "stdout",
     "output_type": "stream",
     "text": [
      "               count      mean       std  min  25%       50%       75%  \\\n",
      "BsmtFin.SF.1  2877.0  1.847639  1.291243  0.0  0.0  2.574031  2.866878   \n",
      "\n",
      "                   max  \n",
      "BsmtFin.SF.1  3.751664  \n"
     ]
    },
    {
     "data": {
      "image/png": "[encoded data removed]",
      "text/plain": [
       "<Figure size 640x480 with 1 Axes>"
      ]
     },
     "metadata": {},
     "output_type": "display_data"
    }
   ],
   "source": [
    "model_data['BsmtFin.SF.1'] = model_data['BsmtFin.SF.1'].apply(lambda x: np.log10(x+1))\n",
    "plot_numericals(model_data, ['BsmtFin.SF.1'])"
   ]
  },
  {
   "cell_type": "markdown",
   "metadata": {},
   "source": [
    "#### 2.2. Features categóricas\n",
    "TODO:\n",
    "- [ ] Tratar valores faltantes\n",
    "- [ ] Tratar outliers\n",
    "- [ ] Criar novas features que façam sentido\n",
    "- [ ] Explicações e análises\n",
    "- [ ] **FAZER ENCODING**"
   ]
  },
  {
   "cell_type": "markdown",
   "metadata": {},
   "source": [
    "#### 2.3. Features ordinais\n",
    "TODO:\n",
    "- [ ] Tratar valores faltantes\n",
    "- [ ] Tratar outliers\n",
    "- [ ] Criar novas features que façam sentido\n",
    "- [ ] Explicações e análises\n",
    "- [ ] **FAZER ENCODING**"
   ]
  },
  {
   "cell_type": "markdown",
   "metadata": {},
   "source": [
    "### 3. Modelagem\n",
    "- [ ] Train-test split\n",
    "- [ ] Escolha de métrica de avaliação\n",
    "- [ ] Escolha de modelo\n",
    "- [ ] Tuning de hiperparâmetros"
   ]
  },
  {
   "cell_type": "markdown",
   "metadata": {},
   "source": [
    "### Train Test Split"
   ]
  },
  {
   "cell_type": "code",
   "execution_count": 153,
   "metadata": {},
   "outputs": [],
   "source": [
    "def split_features_target(df):\n",
    "    target_column = 'SalePrice'\n",
    "    X = df.drop(columns=[target_column]).copy()\n",
    "    y = df[target_column].copy()\n",
    "    return X, y\n"
   ]
  },
  {
   "cell_type": "code",
   "execution_count": 154,
   "metadata": {},
   "outputs": [],
   "source": [
    "X, y = split_features_target(model_data)"
   ]
  },
  {
   "cell_type": "code",
   "execution_count": 166,
   "metadata": {},
   "outputs": [
    {
     "name": "stdout",
     "output_type": "stream",
     "text": [
      "(1840, 69) (576, 69) (461, 69)\n"
     ]
    }
   ],
   "source": [
    "# train test validation split\n",
    "from sklearn.model_selection import train_test_split\n",
    "\n",
    "X_train, X_test, y_train, y_test = train_test_split(X, y, train_size=.8, random_state=42)\n",
    "\n",
    "X_train, X_val, y_train, y_val = train_test_split(X_train, y_train, train_size=.8, random_state=42)\n",
    "\n",
    "print(X_train.shape, X_test.shape, X_val.shape)\n"
   ]
  },
  {
   "cell_type": "code",
   "execution_count": 167,
   "metadata": {},
   "outputs": [
    {
     "name": "stderr",
     "output_type": "stream",
     "text": [
      "c:\\Users\\tutuc\\anaconda3\\envs\\ames\\Lib\\site-packages\\sklearn\\preprocessing\\_encoders.py:972: FutureWarning: `sparse` was renamed to `sparse_output` in version 1.2 and will be removed in 1.4. `sparse_output` is ignored unless you leave `sparse` to its default value.\n",
      "  warnings.warn(\n"
     ]
    }
   ],
   "source": [
    "from sklearn.pipeline import Pipeline\n",
    "from sklearn.compose import ColumnTransformer\n",
    "\n",
    "from sklearn.impute import SimpleImputer\n",
    "from sklearn.preprocessing import StandardScaler, OneHotEncoder\n",
    "from sklearn.preprocessing import PolynomialFeatures\n",
    "\n",
    "### ISOLANDO OS ATRIBUTOS NUMÉRICOS E CATEGÓRICOS ###\n",
    "X_train_num = X_train.select_dtypes(include=[np.number])\n",
    "X_train_cat = X_train.select_dtypes(include=['category']).astype('str')\n",
    "\n",
    "num_pipeline = Pipeline([\n",
    "        ('imputer', SimpleImputer(strategy=\"median\")),\n",
    "        ('std_scaler', StandardScaler()),\n",
    "        # Nota: include_bias=False porque o bias (termo constante) já estará incluso no regressor linear.\n",
    "        ('poly', PolynomialFeatures(degree=2, include_bias=False)),\n",
    "    ])\n",
    "\n",
    "cat_pipeline = Pipeline([\n",
    "        #Nota: drop='first' para evitar a colinearidade que não funcionaria com um modelo de regressão linear \n",
    "        ('encoder', OneHotEncoder(categories='auto', drop='first', sparse=False, handle_unknown='ignore')),\n",
    "    ])\n",
    "\n",
    "### TRANSFORMAÇÃO DOS ATRIBUTOS NUMÉRICOS E CATEGÓRICOS ###\n",
    "num_attribs = list(X_train_num)\n",
    "cat_attribs = list(X_train_cat)\n",
    "\n",
    "full_pipeline = ColumnTransformer([\n",
    "        (\"num\", num_pipeline, num_attribs),\n",
    "        (\"cat\", cat_pipeline, cat_attribs),\n",
    "    ])\n",
    "\n",
    "X_train = X_train_num.join(X_train_cat)\n",
    "\n",
    "### APLICAÇÃO DA TRANSFORMAÇÃO ###\n",
    "X_train_prepared = full_pipeline.fit_transform(X_train)"
   ]
  },
  {
   "cell_type": "code",
   "execution_count": 168,
   "metadata": {},
   "outputs": [
    {
     "name": "stdout",
     "output_type": "stream",
     "text": [
      "{'fit_intercept': True}\n",
      "LinearRegression()\n"
     ]
    }
   ],
   "source": [
    "# grid search com LinearRegression, RidgeCV, LassoCV, ElasticNetCV\n",
    "from sklearn.linear_model import LinearRegression, RidgeCV, LassoCV, ElasticNetCV\n",
    "from sklearn.model_selection import GridSearchCV\n",
    "\n",
    "param_grid = [\n",
    "    {'fit_intercept': [True, False]}\n",
    "]\n",
    "\n",
    "lin_reg = LinearRegression()\n",
    "grid_search = GridSearchCV(lin_reg, param_grid, cv=5, scoring='neg_mean_squared_error', return_train_score=True)\n",
    "grid_search.fit(X_train_prepared, y_train)\n",
    "\n",
    "best_lin_reg = grid_search.best_estimator_\n",
    "\n",
    "print(grid_search.best_params_)\n",
    "print(grid_search.best_estimator_)"
   ]
  },
  {
   "cell_type": "code",
   "execution_count": 169,
   "metadata": {},
   "outputs": [
    {
     "name": "stdout",
     "output_type": "stream",
     "text": [
      "{'alphas': array([1.00000000e-04, 4.64158883e-04, 2.15443469e-03, 1.00000000e-02,\n",
      "       4.64158883e-02, 2.15443469e-01, 1.00000000e+00, 4.64158883e+00,\n",
      "       2.15443469e+01, 1.00000000e+02]), 'fit_intercept': True}\n",
      "RidgeCV(alphas=array([1.00000000e-04, 4.64158883e-04, 2.15443469e-03, 1.00000000e-02,\n",
      "       4.64158883e-02, 2.15443469e-01, 1.00000000e+00, 4.64158883e+00,\n",
      "       2.15443469e+01, 1.00000000e+02]),\n",
      "        cv=5, scoring='neg_mean_squared_error')\n",
      "100.0\n",
      "5.161926306348965\n",
      "[ 6.40534718e-03  8.93983129e-03 -2.26571634e-04  1.34798249e-02\n",
      " -6.18507435e-04  1.30387633e-03  1.98672514e-02  2.01295394e-02\n",
      "  1.35465933e-02 -1.05891492e-03  2.69391429e-02  4.32615711e-03\n",
      " -8.15351314e-05  1.10660595e-02  9.28332673e-03 -3.28064396e-03\n",
      " -4.78251813e-03  5.95313945e-03  1.10049922e-02  1.08727054e-02\n",
      "  5.47394387e-03  5.71063814e-03  4.99060791e-03  2.18219553e-03\n",
      "  7.39207924e-04  5.80840596e-03  1.10814141e-04 -1.51632709e-03\n",
      "  8.50271639e-04 -1.90189012e-04 -1.06510184e-02 -1.62441470e-02\n",
      " -1.64750049e-02 -8.76275888e-04  1.40427890e-03 -2.21410423e-03\n",
      "  2.61315533e-03 -3.17365395e-03  2.02285171e-03 -5.13353982e-04\n",
      " -7.48759248e-05 -4.48862047e-04  1.92847731e-03 -2.81954351e-04\n",
      "  1.32135498e-03  1.91378491e-04 -2.19119681e-03  5.76994370e-04\n",
      "  1.56656063e-03  1.88968583e-04  2.73588363e-03 -1.50554559e-03\n",
      "  2.66243410e-03 -2.95031876e-03  1.67097288e-04 -1.06418336e-03\n",
      "  1.33098659e-03  1.84380886e-03 -7.19966135e-05 -9.95611804e-05\n",
      " -1.55893284e-03  1.26679941e-04  4.08485601e-04  1.18001178e-03\n",
      " -2.37390570e-03 -2.58839775e-03 -1.14199470e-04  9.97135344e-04\n",
      "  1.10952411e-03  3.41366729e-03 -1.14144264e-03 -1.83730067e-03\n",
      " -2.45852156e-03  1.19701133e-03 -3.15227740e-03 -1.09329237e-03\n",
      " -4.11437336e-04 -1.01391294e-03 -1.64672875e-03 -4.82224119e-04\n",
      " -4.25903754e-05 -1.98126475e-04 -2.58238802e-04  2.22149297e-03\n",
      "  3.79278750e-03 -5.15152529e-03  6.41229312e-04  4.51145929e-04\n",
      " -1.41132190e-03 -2.03394689e-03  1.65385103e-03 -6.48692079e-05\n",
      " -2.27489810e-03 -3.53058443e-03  5.70181558e-05 -1.86249826e-04\n",
      "  1.15510364e-03  3.66007899e-04  4.89542081e-03 -5.62776907e-04\n",
      " -1.02114421e-03  9.78952945e-05  3.63006566e-03 -2.00186600e-03\n",
      " -3.86275569e-04  8.62002829e-04 -1.77961290e-03  1.88589140e-03\n",
      "  1.92079901e-03 -1.87962369e-03  1.14639360e-03  2.95703524e-03\n",
      "  1.00187423e-03 -1.41969429e-03  1.21861900e-03 -1.38353363e-03\n",
      "  3.18689908e-04  2.31869162e-03 -1.42054715e-03  6.49395170e-04\n",
      " -7.79418709e-04  6.88462554e-04  1.53852094e-04 -1.10855606e-03\n",
      "  1.23974641e-03 -1.50055955e-03 -3.01513912e-03  4.10943589e-04\n",
      " -1.44733074e-03  4.51490499e-04  3.00227311e-04 -1.72141665e-03\n",
      "  1.27958945e-03 -4.76168681e-03  2.90464575e-03  1.58016864e-03\n",
      " -9.51538103e-04  1.49538025e-03 -1.12906977e-04  1.86318566e-03\n",
      " -2.58826470e-03  5.58087447e-05  1.84678215e-04  6.61477383e-04\n",
      "  8.07810207e-04 -3.69893035e-03  3.51221940e-03 -1.76103613e-03\n",
      " -3.38297326e-03 -4.59032567e-03  1.12413041e-03 -1.80732624e-03\n",
      " -1.11718494e-03  2.38991853e-03  2.80687319e-04  7.45327352e-04\n",
      "  2.48861748e-04  1.39421974e-03  3.69992871e-03  1.04586042e-03\n",
      "  8.39938654e-04  1.40799556e-03 -1.74625243e-03  1.38210496e-03\n",
      "  4.40384553e-04 -8.55453902e-05 -1.37951694e-03 -1.16773366e-03\n",
      " -1.51232656e-03  2.16776062e-04 -1.66951389e-04 -2.07619146e-03\n",
      "  2.86732347e-03 -1.71213908e-03 -4.92338004e-04  1.74808870e-03\n",
      " -8.47095097e-04  3.60957287e-04 -2.63085146e-03 -7.17768856e-04\n",
      " -9.52671923e-04 -6.45956368e-04 -3.53980269e-03 -1.00695698e-03\n",
      " -1.41557167e-04  7.33401187e-04  1.96288081e-03  2.30476904e-04\n",
      "  6.36364412e-04 -7.92450360e-04  1.46463934e-03  1.82143697e-03\n",
      "  8.74932373e-04  2.76753744e-03 -4.77587659e-03  1.01863322e-03\n",
      "  1.24999901e-03 -1.68124480e-03  7.44924736e-03 -1.36350856e-03\n",
      " -8.44559309e-04 -2.68613179e-03 -5.57135099e-04 -3.98164085e-03\n",
      "  1.66068432e-03  3.13816766e-04  3.39383176e-03 -1.63940036e-03\n",
      "  1.82996690e-03 -1.66543913e-04 -7.48668948e-04  3.69932981e-03\n",
      "  2.86252573e-03  2.29017081e-03  8.31131603e-04 -4.69562082e-04\n",
      "  2.85284448e-03 -2.13975353e-03  3.33727660e-04  3.50620964e-04\n",
      " -1.30233037e-03  3.76410389e-03 -2.39615301e-03 -1.78476018e-03\n",
      " -5.27914894e-04 -4.53309910e-03 -1.52870868e-03  8.97703285e-04\n",
      "  3.56895453e-03 -1.47286509e-03  1.44148000e-03 -3.48452118e-03\n",
      " -1.61453211e-03 -1.48880554e-03 -4.62416771e-04 -3.93420239e-04\n",
      " -1.19830746e-03  3.45695336e-04  1.22096793e-03 -1.02821747e-03\n",
      " -1.22101330e-03 -3.53073511e-03 -2.74024691e-03 -1.67659939e-03\n",
      " -3.89774997e-03 -2.49079906e-04 -4.67858028e-03  3.85185513e-03\n",
      "  4.00833821e-04  3.95126830e-03  7.19962517e-04 -4.84551599e-03\n",
      " -1.92574080e-03  7.73300125e-04  2.37932250e-03  2.21056808e-03\n",
      "  1.60127661e-03  3.61655142e-03 -1.77839752e-03  1.23477095e-03\n",
      "  1.51248627e-03  1.79412194e-04 -7.87237101e-05  3.09064468e-04\n",
      " -1.79265362e-03  2.88077824e-04 -1.01132052e-03  1.05862503e-03\n",
      "  9.19662261e-05  3.25468890e-03  1.20024532e-04 -1.17207614e-04\n",
      " -7.56816939e-04 -4.60234921e-03 -1.84130815e-03  2.24241718e-04\n",
      "  7.38620781e-03 -2.13364805e-03 -3.44386588e-03  1.26112070e-03\n",
      " -4.69395953e-04  3.72801375e-03  1.29536688e-04 -3.82620696e-03\n",
      " -1.95132395e-03  6.68502940e-04  1.60927043e-03 -7.54743881e-04\n",
      " -1.00610977e-03 -8.27575765e-04 -6.36642649e-04  3.47448932e-03\n",
      " -7.02473698e-03  2.72599694e-03  1.76236593e-04 -6.95055305e-05\n",
      " -1.45242630e-03  5.17882803e-04 -1.53294044e-03 -3.37306715e-04\n",
      " -9.80991975e-05  2.01421888e-03  3.82178650e-04 -1.41497421e-03\n",
      " -1.35428525e-04  9.94904538e-04 -9.69313824e-04 -6.07117613e-04\n",
      " -8.46590316e-04  1.30737845e-04 -3.26327308e-04  1.00268045e-03\n",
      " -1.30344500e-03 -3.86774549e-04  1.25397366e-04  1.57453745e-04\n",
      " -2.02205540e-04 -9.76432645e-04 -3.65474726e-03  2.13863020e-03\n",
      " -3.65021160e-03  1.26495538e-03  7.11820620e-04  2.73492860e-03\n",
      " -3.14150657e-03 -2.37298145e-03  2.77856179e-03  1.25653943e-03\n",
      "  4.53773724e-03  2.77154496e-03 -4.72419301e-03 -8.31446311e-04\n",
      "  1.73860447e-03  1.50620954e-03 -6.29708221e-04 -7.51121560e-04\n",
      " -2.11108007e-03 -3.23975746e-04  2.26524014e-03 -5.31751895e-03\n",
      "  2.35453908e-03 -1.14079188e-03 -1.23137444e-03 -1.67989932e-03\n",
      " -3.84823809e-04 -5.19532292e-04  6.68382339e-04 -3.98159619e-04\n",
      " -2.91957168e-03 -6.00412074e-04  1.70973696e-03  3.26927482e-05\n",
      "  2.45563110e-04  2.31835158e-03 -1.47198164e-03 -5.14180419e-04\n",
      " -2.84096101e-04  1.28416721e-03 -5.54141981e-05  9.41689005e-04\n",
      "  6.88697739e-04  1.81553801e-04 -4.18944319e-03  2.90536645e-04\n",
      "  1.79742789e-03  1.04923329e-03 -1.70692649e-03 -1.76330189e-03\n",
      "  8.06210299e-04 -4.31227367e-04  1.43270454e-03  7.58740543e-04\n",
      "  1.24599676e-03 -4.02947114e-04  2.89651913e-04 -1.04074691e-03\n",
      " -4.17941727e-04  3.97301709e-04  8.73279969e-04  1.87632642e-03\n",
      "  8.75910971e-04  3.85391141e-03 -3.26952546e-03  2.76454529e-03\n",
      "  2.28340738e-03  2.92043503e-03 -1.15161555e-03  1.74582504e-03\n",
      "  1.75282219e-03 -5.37023053e-04 -5.65197110e-03  4.66049196e-04\n",
      " -2.20463100e-04  1.84085777e-03 -2.65767521e-05 -8.84730116e-04\n",
      "  2.01286050e-03 -3.79058055e-04  2.70285950e-03 -8.42936969e-04\n",
      "  6.75640966e-04 -1.96919317e-03 -6.30642314e-04  5.93182840e-04\n",
      " -5.78341899e-03 -3.30237982e-03  1.59824254e-03  1.15169300e-03\n",
      "  7.43050841e-04  2.53294086e-03 -3.15617064e-03 -7.75148952e-04\n",
      "  1.25617809e-03 -1.02171835e-03  1.15679540e-03 -8.19638341e-04\n",
      " -6.53549524e-05 -7.65833199e-04  2.36351920e-03 -4.66402227e-04\n",
      " -1.22047298e-04  1.21072185e-03  2.09440501e-03 -5.49278999e-03\n",
      "  2.94739420e-03  1.77405783e-03 -3.02979165e-03 -2.50701646e-03\n",
      "  4.02017478e-03 -3.27149839e-03  1.97776997e-03 -2.98362729e-03\n",
      "  9.99952560e-04 -2.12357584e-03 -3.58801178e-04  4.56364774e-03\n",
      " -2.11747280e-03  2.31899888e-03 -2.59960663e-03  7.01879303e-03\n",
      "  8.94380094e-04  3.65070409e-04 -1.93932607e-03  9.45891426e-04\n",
      " -5.91130548e-03  3.92499410e-03  3.61472790e-03  1.20217539e-03\n",
      "  2.14179898e-03  3.75532806e-04  1.29964905e-04  2.67979458e-04\n",
      " -2.40660101e-03 -1.16051823e-03 -1.15551297e-03  2.42442795e-04\n",
      " -3.54191043e-03  6.48839992e-05  2.91315543e-03  1.80289470e-03\n",
      " -1.92900725e-03  3.75670438e-03 -3.28864446e-03 -2.18851840e-03\n",
      "  7.53348292e-04 -5.52625681e-04 -2.79204977e-03 -2.79326339e-04\n",
      " -1.17698195e-03  1.01409254e-03 -1.37466925e-03  4.56556369e-03\n",
      " -2.34556249e-03 -3.30725905e-04 -3.12140431e-03  3.35687584e-03\n",
      " -7.03827226e-03 -3.25072790e-04  3.59813379e-03  1.97191574e-03\n",
      "  5.55789773e-04  4.79127437e-04 -4.55309027e-04 -2.56867790e-03\n",
      "  1.23210345e-03 -3.00880585e-03 -1.77114672e-03  4.12919112e-03\n",
      "  3.95434502e-03  1.87357549e-03  8.97278342e-04 -2.51178158e-03\n",
      " -2.22932311e-05 -3.19449904e-03 -2.41480632e-03 -2.21303746e-03\n",
      " -7.73713246e-05 -1.84064735e-03  2.74712644e-04  3.81700304e-03\n",
      " -3.64326202e-03  1.52515256e-03  3.64912287e-03 -4.73057737e-03\n",
      " -2.02049972e-03  5.13441342e-03  3.21472053e-03  1.02606877e-03\n",
      "  2.29203865e-03  4.38114712e-04  6.78676958e-04  1.01540269e-03\n",
      " -4.72828372e-03 -1.44002084e-02  1.41599181e-03 -4.75820710e-03\n",
      "  6.17508996e-05  1.87571617e-03  1.64070509e-03  5.38241992e-04\n",
      "  1.25344499e-03 -3.02193234e-05 -1.15825964e-03  4.75114462e-04\n",
      " -5.55544341e-04  1.45721033e-03 -1.11893844e-03 -2.64259922e-03\n",
      " -5.61722965e-04  1.28173471e-03  1.80103431e-03  1.93335606e-04\n",
      " -3.64149597e-05  3.26334050e-04 -1.63618248e-03  1.32689768e-03\n",
      " -1.27082285e-03 -1.88258887e-03  3.10569691e-03  8.87904632e-05\n",
      " -9.61875705e-04 -2.16786668e-03 -1.28729105e-04 -1.35850656e-03\n",
      "  2.24372286e-04  1.19391502e-03  3.17230766e-03  3.00266811e-03\n",
      " -1.18101786e-03  1.59894706e-06 -8.60652145e-04 -5.74566152e-05\n",
      "  4.88398197e-04  2.41689813e-03 -1.38773688e-03 -1.18952211e-03\n",
      "  2.81864357e-03  1.29936596e-03 -2.45014951e-04 -1.93777494e-04\n",
      "  2.21050506e-03 -3.69712586e-04  1.56072712e-03  9.20351763e-04\n",
      "  9.46172213e-04  1.65293106e-03  2.24972714e-04 -1.57374120e-04\n",
      "  3.31927764e-04 -4.47144846e-05  4.59874357e-04  4.71087084e-04\n",
      "  8.26805720e-04  2.47934190e-04 -1.43269490e-03 -2.20846730e-04\n",
      " -7.39786686e-04 -4.75806182e-04 -1.89351256e-03 -2.68316166e-03\n",
      " -1.49175065e-03 -1.52822797e-03 -2.83241447e-04  9.25145925e-04\n",
      " -1.49364284e-04 -2.85255813e-03 -1.16052055e-03 -1.41694352e-03\n",
      " -2.42475942e-03 -1.85737920e-03 -1.26488791e-03  8.48726187e-03\n",
      " -5.46679276e-03 -8.14103556e-04 -1.14189999e-03 -1.26933767e-03\n",
      " -6.90219984e-04 -8.12738458e-03 -1.12948718e-04 -6.35782853e-05\n",
      "  7.13356512e-03  1.00786257e-03  1.21977376e-03 -1.53028615e-03\n",
      "  1.89062800e-03  1.43604072e-03  3.52306349e-03 -1.36710472e-02\n",
      "  8.80159149e-05 -1.60654017e-04 -3.65367323e-03  7.58788631e-03\n",
      " -2.13457548e-04  5.25213850e-04  5.73719199e-03 -3.95145753e-03\n",
      " -2.58916923e-04 -1.98298365e-03  1.06944756e-03 -1.28472760e-03\n",
      "  1.13693447e-03  3.22210353e-03  2.02884707e-03 -2.55516742e-03\n",
      "  1.32539665e-02 -1.12498331e-02 -2.02905895e-03 -1.55554927e-03\n",
      " -5.74498971e-03 -4.69676819e-03 -3.41428646e-03  2.41122633e-03\n",
      " -1.55313457e-03  3.95137908e-03  5.64629615e-03 -7.69554298e-03\n",
      "  2.30010886e-03 -2.69263524e-03 -5.72658259e-03  8.12699249e-03\n",
      "  7.16169002e-03  7.47895061e-04  8.75272139e-06 -1.24820598e-03\n",
      " -1.53028615e-03 -3.46940996e-04 -3.85831810e-04  1.80979545e-03\n",
      " -6.13275642e-03 -3.92744030e-04  4.48250581e-04  3.80971913e-03\n",
      " -7.91797692e-04  2.68342478e-03  5.08795606e-03 -8.97101301e-03\n",
      " -1.11519673e-02 -1.36677322e-02 -3.37999633e-04  3.82131145e-03\n",
      "  5.80306783e-03  9.47458773e-03  1.24460676e-02 -7.10043578e-03\n",
      " -1.59838683e-02 -8.51052831e-03 -1.63350492e-03  6.94301738e-03\n",
      "  1.62422595e-02  1.01175781e-02  4.68042264e-03  4.77838012e-03\n",
      " -4.61415619e-03  1.94725391e-03 -2.33832240e-03  3.82244731e-03\n",
      " -4.56046436e-03  7.40612453e-05 -8.76390645e-03 -1.31406584e-02\n",
      "  4.36848531e-03  6.65196263e-03  2.68741861e-03  7.23219291e-04\n",
      "  7.33697467e-03 -6.67766661e-03 -3.66442205e-03 -2.82133918e-03\n",
      " -2.31623752e-03  8.46973835e-03 -2.82133918e-03  1.01344199e-02\n",
      "  8.49994740e-03 -3.56647108e-03 -2.93860805e-03 -3.52915232e-03\n",
      " -1.99722644e-03  7.22924243e-03 -4.37515853e-03 -2.82133918e-03\n",
      " -6.57967694e-03 -1.10643865e-04 -1.56493313e-03  1.34066244e-03\n",
      "  1.47900000e-04 -2.82133918e-03 -3.56387851e-04  2.79766649e-03\n",
      " -6.16550695e-03 -2.61785561e-03 -1.14855250e-03 -7.48417762e-03\n",
      "  1.33648231e-02 -2.27700666e-03 -7.43212566e-04 -5.34020177e-04\n",
      "  2.35885518e-03 -3.79400847e-03 -6.15776449e-03 -8.97752829e-06\n",
      " -1.15945217e-02 -2.45190673e-03 -2.63848871e-03 -6.41058749e-04\n",
      " -1.97179194e-03 -1.08860259e-03  1.41801173e-02  1.86364766e-03\n",
      "  2.30795953e-04  1.53156088e-03 -2.07822183e-03  3.25496802e-03\n",
      " -3.72306827e-03 -3.72306827e-03 -1.22952625e-03 -4.34153468e-03\n",
      "  8.11892610e-04  7.78834343e-03 -2.29024239e-03  2.34975484e-03\n",
      "  2.84358401e-05 -1.14965916e-03  1.02318105e-02 -5.45618974e-03\n",
      "  2.07792371e-03 -8.69706862e-04 -2.65187370e-03  1.12271942e-02\n",
      "  8.88670177e-03  3.25171576e-03 -2.26236369e-03 -1.09433516e-02\n",
      " -1.52998823e-03  1.04119375e-02  2.18819724e-03 -1.50649583e-03\n",
      "  2.53419141e-03 -1.80062793e-03 -3.58986557e-04  1.08071905e-03\n",
      " -3.93868088e-03 -1.82179186e-04 -1.91482893e-03]\n",
      "(763,)\n"
     ]
    }
   ],
   "source": [
    "# grid search com RidgeCV\n",
    "param_grid = [\n",
    "    {'fit_intercept': [True, False],\n",
    "     'alphas': [np.logspace(-4, 2, 10)]}\n",
    "]\n",
    "\n",
    "ridge_reg = RidgeCV(alphas=[1e-4, 1e-3, 1e-2, 1e-1, 1, 10], cv=5, scoring='neg_mean_squared_error')\n",
    "grid_search = GridSearchCV(ridge_reg, param_grid, cv=5, scoring='neg_mean_squared_error', return_train_score=True)\n",
    "grid_search.fit(X_train_prepared, y_train)\n",
    "\n",
    "best_ridge_reg = grid_search.best_estimator_\n",
    "\n",
    "print(grid_search.best_params_)\n",
    "print(grid_search.best_estimator_)\n",
    "print(grid_search.best_estimator_.alpha_)\n",
    "print(grid_search.best_estimator_.intercept_)\n",
    "print(grid_search.best_estimator_.coef_)\n",
    "print(grid_search.best_estimator_.coef_.shape)\n"
   ]
  },
  {
   "cell_type": "code",
   "execution_count": 170,
   "metadata": {},
   "outputs": [
    {
     "name": "stdout",
     "output_type": "stream",
     "text": [
      "{'alphas': array([1.00000000e-04, 4.64158883e-04, 2.15443469e-03, 1.00000000e-02,\n",
      "       4.64158883e-02, 2.15443469e-01, 1.00000000e+00, 4.64158883e+00,\n",
      "       2.15443469e+01, 1.00000000e+02]), 'fit_intercept': True}\n",
      "LassoCV(alphas=array([1.00000000e-04, 4.64158883e-04, 2.15443469e-03, 1.00000000e-02,\n",
      "       4.64158883e-02, 2.15443469e-01, 1.00000000e+00, 4.64158883e+00,\n",
      "       2.15443469e+01, 1.00000000e+02]),\n",
      "        cv=5, max_iter=10000, random_state=42, tol=0.01)\n",
      "0.00046415888336127773\n",
      "5.14981677181216\n",
      "[ 4.47250591e-03  9.16327989e-03  0.00000000e+00  1.40883335e-02\n",
      " -0.00000000e+00 -5.05048586e-04  1.92671581e-02  3.48915711e-02\n",
      "  3.17035295e-02  0.00000000e+00  2.54193019e-02  2.97256689e-03\n",
      "  0.00000000e+00  6.55887420e-03  4.77214385e-03 -3.40260817e-03\n",
      " -2.50376490e-03  0.00000000e+00  9.03478953e-03  1.69185631e-02\n",
      "  0.00000000e+00  3.81225978e-03  4.13488319e-03  1.33780277e-03\n",
      "  0.00000000e+00  4.82379764e-03  0.00000000e+00  0.00000000e+00\n",
      "  0.00000000e+00  0.00000000e+00 -8.33174880e-03 -1.65532031e-02\n",
      " -2.73248673e-02 -0.00000000e+00 -0.00000000e+00 -5.88889846e-04\n",
      "  6.38380720e-05 -0.00000000e+00 -0.00000000e+00 -0.00000000e+00\n",
      " -2.70104376e-04 -0.00000000e+00  0.00000000e+00 -0.00000000e+00\n",
      "  6.01451207e-04 -0.00000000e+00 -0.00000000e+00 -0.00000000e+00\n",
      "  0.00000000e+00 -0.00000000e+00  1.43745662e-03 -0.00000000e+00\n",
      "  1.69955586e-03 -0.00000000e+00  0.00000000e+00 -2.33506257e-04\n",
      "  0.00000000e+00  0.00000000e+00 -0.00000000e+00 -0.00000000e+00\n",
      " -0.00000000e+00  0.00000000e+00  0.00000000e+00 -0.00000000e+00\n",
      " -1.85858428e-04 -6.89492808e-04 -0.00000000e+00 -0.00000000e+00\n",
      "  0.00000000e+00  7.60661692e-04 -2.03647171e-03 -8.06406430e-04\n",
      " -1.35410840e-03  0.00000000e+00 -0.00000000e+00 -0.00000000e+00\n",
      "  6.58336932e-04 -1.71398504e-04 -0.00000000e+00  0.00000000e+00\n",
      " -0.00000000e+00 -0.00000000e+00  0.00000000e+00  3.03584500e-04\n",
      "  0.00000000e+00 -1.52799292e-03  0.00000000e+00 -0.00000000e+00\n",
      " -0.00000000e+00  0.00000000e+00  3.07293949e-04  0.00000000e+00\n",
      " -0.00000000e+00 -2.14971271e-03 -0.00000000e+00  0.00000000e+00\n",
      "  2.62568404e-04 -0.00000000e+00  2.13258506e-03 -0.00000000e+00\n",
      "  0.00000000e+00 -0.00000000e+00  1.84134037e-03 -3.92578827e-04\n",
      " -0.00000000e+00 -0.00000000e+00 -1.20597635e-04  1.20126168e-03\n",
      "  2.62572173e-04 -6.39936033e-04  0.00000000e+00  0.00000000e+00\n",
      "  0.00000000e+00 -0.00000000e+00  0.00000000e+00 -0.00000000e+00\n",
      " -0.00000000e+00  1.40060608e-03 -9.21043419e-04 -0.00000000e+00\n",
      " -0.00000000e+00 -0.00000000e+00 -0.00000000e+00 -0.00000000e+00\n",
      "  1.21703276e-03 -9.19657772e-04 -0.00000000e+00  0.00000000e+00\n",
      " -1.72365016e-03  0.00000000e+00  0.00000000e+00 -1.92602174e-05\n",
      " -0.00000000e+00 -2.81751087e-03  0.00000000e+00  6.90041234e-04\n",
      " -0.00000000e+00  3.34151170e-03  0.00000000e+00 -0.00000000e+00\n",
      " -9.29586224e-04  0.00000000e+00  0.00000000e+00  0.00000000e+00\n",
      "  4.69829276e-04 -0.00000000e+00  5.82015668e-04 -0.00000000e+00\n",
      " -3.28159024e-03 -1.80821885e-03 -0.00000000e+00 -1.38788212e-03\n",
      " -0.00000000e+00  0.00000000e+00 -0.00000000e+00  0.00000000e+00\n",
      " -0.00000000e+00  0.00000000e+00  0.00000000e+00  2.51849777e-04\n",
      " -0.00000000e+00  0.00000000e+00 -0.00000000e+00  4.51604813e-04\n",
      "  0.00000000e+00  0.00000000e+00 -0.00000000e+00 -1.47878151e-04\n",
      " -3.04481375e-04  2.06299530e-04 -0.00000000e+00 -1.03780800e-03\n",
      "  8.22901526e-04 -0.00000000e+00  0.00000000e+00  0.00000000e+00\n",
      " -2.24528771e-05 -0.00000000e+00 -1.46186789e-03 -0.00000000e+00\n",
      " -6.39568660e-04 -6.48675655e-04 -0.00000000e+00 -5.80089393e-04\n",
      " -0.00000000e+00 -0.00000000e+00  0.00000000e+00 -0.00000000e+00\n",
      "  0.00000000e+00  0.00000000e+00  0.00000000e+00  0.00000000e+00\n",
      " -0.00000000e+00  1.12140275e-03 -2.77285826e-03 -0.00000000e+00\n",
      "  8.49774453e-04  0.00000000e+00  6.52990176e-03 -1.28291310e-03\n",
      " -0.00000000e+00  0.00000000e+00  0.00000000e+00 -2.18468028e-03\n",
      "  8.67330288e-04  0.00000000e+00  2.64361336e-03  0.00000000e+00\n",
      "  1.16109257e-03  0.00000000e+00 -0.00000000e+00  2.94950963e-03\n",
      "  1.00314047e-03  0.00000000e+00 -0.00000000e+00 -0.00000000e+00\n",
      "  0.00000000e+00 -0.00000000e+00 -0.00000000e+00 -0.00000000e+00\n",
      " -0.00000000e+00  2.99597385e-03 -7.23821588e-04 -0.00000000e+00\n",
      " -0.00000000e+00 -2.59817211e-03 -0.00000000e+00  0.00000000e+00\n",
      "  7.46600693e-04  0.00000000e+00  0.00000000e+00 -0.00000000e+00\n",
      " -0.00000000e+00  0.00000000e+00 -0.00000000e+00  0.00000000e+00\n",
      " -0.00000000e+00  0.00000000e+00  0.00000000e+00  0.00000000e+00\n",
      " -0.00000000e+00 -2.76411288e-03 -7.57796945e-04  0.00000000e+00\n",
      " -1.09344157e-03  0.00000000e+00 -5.35413801e-03  1.78659328e-03\n",
      " -0.00000000e+00  1.66817840e-03 -0.00000000e+00 -2.13911534e-03\n",
      " -0.00000000e+00  0.00000000e+00  5.18435918e-04  0.00000000e+00\n",
      " -0.00000000e+00  1.59106468e-03 -2.00636031e-03  0.00000000e+00\n",
      " -0.00000000e+00  0.00000000e+00  8.66755089e-04  0.00000000e+00\n",
      " -0.00000000e+00  0.00000000e+00 -0.00000000e+00  0.00000000e+00\n",
      " -0.00000000e+00  0.00000000e+00  1.32656223e-05 -0.00000000e+00\n",
      " -8.59428115e-05 -3.03504983e-03 -0.00000000e+00 -0.00000000e+00\n",
      "  5.69010218e-03 -0.00000000e+00 -0.00000000e+00  0.00000000e+00\n",
      " -0.00000000e+00  6.05081990e-04 -0.00000000e+00 -9.36926374e-04\n",
      " -3.93734857e-04  2.61139003e-04  0.00000000e+00 -0.00000000e+00\n",
      "  0.00000000e+00 -0.00000000e+00 -4.50440086e-04  4.67104169e-03\n",
      " -6.17679115e-03  5.17952920e-03  1.45015938e-04  0.00000000e+00\n",
      "  0.00000000e+00  0.00000000e+00 -0.00000000e+00  0.00000000e+00\n",
      "  0.00000000e+00  0.00000000e+00  0.00000000e+00 -0.00000000e+00\n",
      "  0.00000000e+00  0.00000000e+00 -1.43755443e-03  0.00000000e+00\n",
      " -0.00000000e+00 -0.00000000e+00 -0.00000000e+00  0.00000000e+00\n",
      " -0.00000000e+00 -6.67488934e-04  0.00000000e+00 -0.00000000e+00\n",
      "  0.00000000e+00  0.00000000e+00 -5.67045683e-03 -0.00000000e+00\n",
      " -3.31910505e-04  0.00000000e+00  0.00000000e+00  0.00000000e+00\n",
      " -8.37964051e-04 -0.00000000e+00  2.23387773e-03  0.00000000e+00\n",
      "  6.34697153e-03  0.00000000e+00 -6.76955761e-03 -0.00000000e+00\n",
      "  0.00000000e+00  5.71529415e-04  0.00000000e+00  0.00000000e+00\n",
      " -1.36169330e-03 -0.00000000e+00  0.00000000e+00 -7.27431029e-03\n",
      "  0.00000000e+00  0.00000000e+00 -0.00000000e+00 -3.29734221e-04\n",
      " -0.00000000e+00 -0.00000000e+00  0.00000000e+00  0.00000000e+00\n",
      " -5.98300587e-05 -0.00000000e+00  0.00000000e+00 -6.58367111e-04\n",
      "  0.00000000e+00  0.00000000e+00 -1.13401358e-04 -0.00000000e+00\n",
      " -0.00000000e+00  0.00000000e+00 -0.00000000e+00  0.00000000e+00\n",
      " -0.00000000e+00  0.00000000e+00 -2.03021743e-03  5.04360842e-04\n",
      "  0.00000000e+00 -0.00000000e+00 -4.46615479e-04 -5.59414182e-04\n",
      " -0.00000000e+00 -0.00000000e+00  0.00000000e+00  0.00000000e+00\n",
      "  0.00000000e+00 -0.00000000e+00  0.00000000e+00 -4.18505089e-04\n",
      " -2.30084079e-04  0.00000000e+00 -0.00000000e+00  5.82688060e-04\n",
      "  0.00000000e+00  2.30450741e-03 -1.84821941e-03  7.09972322e-04\n",
      "  1.17290570e-03  1.89904672e-03 -0.00000000e+00 -0.00000000e+00\n",
      "  4.96066406e-04 -0.00000000e+00 -2.94344926e-03  0.00000000e+00\n",
      "  0.00000000e+00  8.72209917e-04  0.00000000e+00 -0.00000000e+00\n",
      "  0.00000000e+00 -0.00000000e+00  0.00000000e+00 -4.38569231e-04\n",
      "  0.00000000e+00 -1.51583972e-04 -0.00000000e+00 -0.00000000e+00\n",
      " -3.75403072e-03 -1.09134128e-03  0.00000000e+00  0.00000000e+00\n",
      "  8.73836312e-04  0.00000000e+00 -0.00000000e+00 -0.00000000e+00\n",
      "  0.00000000e+00 -0.00000000e+00  0.00000000e+00 -0.00000000e+00\n",
      " -0.00000000e+00 -0.00000000e+00  1.30536904e-03 -2.95652826e-04\n",
      "  0.00000000e+00  0.00000000e+00  1.28562495e-03 -2.38682503e-03\n",
      " -0.00000000e+00  6.56345120e-04 -1.94529213e-03 -0.00000000e+00\n",
      "  1.46221648e-03 -1.90259935e-03  2.12394736e-04 -2.70376955e-03\n",
      "  0.00000000e+00 -0.00000000e+00 -0.00000000e+00  1.68539189e-03\n",
      " -2.16303441e-03  1.25014331e-03 -0.00000000e+00  5.36634704e-03\n",
      "  0.00000000e+00 -7.51400937e-04 -7.42543609e-05  1.35073894e-03\n",
      " -2.84293350e-03  0.00000000e+00  1.38242438e-03 -0.00000000e+00\n",
      "  1.31345510e-03  0.00000000e+00  0.00000000e+00  0.00000000e+00\n",
      " -6.28094499e-04 -1.23021354e-03 -4.57801031e-04 -0.00000000e+00\n",
      " -3.17203552e-03 -0.00000000e+00  4.56975619e-04  1.63415966e-03\n",
      "  0.00000000e+00  0.00000000e+00 -6.66930105e-05 -0.00000000e+00\n",
      " -0.00000000e+00  0.00000000e+00 -3.69630502e-04 -0.00000000e+00\n",
      " -0.00000000e+00 -0.00000000e+00 -0.00000000e+00  8.36696720e-04\n",
      " -1.14087229e-03 -0.00000000e+00 -1.27108269e-03  0.00000000e+00\n",
      " -2.15254982e-03 -0.00000000e+00  3.28141476e-03  1.05393901e-03\n",
      "  5.82806736e-04  0.00000000e+00 -0.00000000e+00 -0.00000000e+00\n",
      "  0.00000000e+00 -2.96752434e-03 -0.00000000e+00  4.02352840e-03\n",
      "  1.60981995e-04  5.66758831e-04  0.00000000e+00 -1.98693244e-03\n",
      "  0.00000000e+00 -3.39371428e-04 -0.00000000e+00  0.00000000e+00\n",
      "  0.00000000e+00  0.00000000e+00  6.57094883e-04  1.18758629e-04\n",
      " -0.00000000e+00  0.00000000e+00 -0.00000000e+00 -2.49981294e-03\n",
      " -4.07880408e-04  4.94216125e-03  0.00000000e+00 -0.00000000e+00\n",
      "  3.59379867e-04  0.00000000e+00  0.00000000e+00  8.04485694e-04\n",
      " -0.00000000e+00 -1.59947946e-02  2.92394349e-03 -0.00000000e+00\n",
      " -0.00000000e+00  4.65022905e-04  0.00000000e+00 -0.00000000e+00\n",
      "  2.97957220e-05  1.29347226e-03  0.00000000e+00  0.00000000e+00\n",
      " -6.46788878e-04 -0.00000000e+00 -6.02180846e-04 -6.95798948e-05\n",
      " -0.00000000e+00  0.00000000e+00  0.00000000e+00  0.00000000e+00\n",
      "  0.00000000e+00 -0.00000000e+00 -8.38914327e-04  1.38922813e-03\n",
      " -0.00000000e+00 -5.23002678e-04  1.99406699e-03  3.34003640e-04\n",
      " -0.00000000e+00 -1.66364440e-04 -0.00000000e+00 -0.00000000e+00\n",
      " -0.00000000e+00  1.39510324e-03  1.30551070e-03  2.12010198e-03\n",
      " -0.00000000e+00  9.55928926e-06 -0.00000000e+00 -0.00000000e+00\n",
      " -0.00000000e+00  0.00000000e+00 -1.77135589e-03  0.00000000e+00\n",
      "  9.88428174e-04  0.00000000e+00  0.00000000e+00 -1.04772585e-03\n",
      "  2.03225049e-03 -0.00000000e+00  4.30178638e-04  0.00000000e+00\n",
      "  2.02733383e-04  0.00000000e+00 -8.78519629e-06 -3.27346850e-04\n",
      "  0.00000000e+00  0.00000000e+00  0.00000000e+00  0.00000000e+00\n",
      "  0.00000000e+00  6.05994071e-05  0.00000000e+00 -0.00000000e+00\n",
      " -0.00000000e+00 -0.00000000e+00 -0.00000000e+00 -2.17733967e-03\n",
      " -1.78083643e-03 -0.00000000e+00  1.00255287e-04  0.00000000e+00\n",
      "  0.00000000e+00 -2.39868631e-03 -9.04810530e-04 -1.36051992e-03\n",
      " -8.11224292e-04 -0.00000000e+00 -0.00000000e+00  7.37474685e-03\n",
      " -4.53793009e-03  0.00000000e+00 -0.00000000e+00 -0.00000000e+00\n",
      " -0.00000000e+00 -4.01822592e-03 -0.00000000e+00 -0.00000000e+00\n",
      "  7.21768876e-04  0.00000000e+00  0.00000000e+00 -0.00000000e+00\n",
      "  0.00000000e+00  0.00000000e+00 -0.00000000e+00 -2.48411922e-02\n",
      "  0.00000000e+00 -0.00000000e+00 -1.89810585e-03  6.12422782e-03\n",
      "  0.00000000e+00 -0.00000000e+00  2.90082854e-03 -0.00000000e+00\n",
      " -0.00000000e+00 -0.00000000e+00  0.00000000e+00 -0.00000000e+00\n",
      "  0.00000000e+00  0.00000000e+00  0.00000000e+00 -0.00000000e+00\n",
      "  3.40390212e-02 -1.04204342e-02 -0.00000000e+00 -0.00000000e+00\n",
      " -0.00000000e+00 -0.00000000e+00 -0.00000000e+00  0.00000000e+00\n",
      " -0.00000000e+00  0.00000000e+00  0.00000000e+00 -2.23718570e-03\n",
      "  0.00000000e+00 -0.00000000e+00 -0.00000000e+00  4.99653641e-03\n",
      "  3.61790371e-04  0.00000000e+00 -0.00000000e+00 -0.00000000e+00\n",
      " -0.00000000e+00 -0.00000000e+00 -0.00000000e+00  0.00000000e+00\n",
      " -5.37040516e-03 -0.00000000e+00  0.00000000e+00  0.00000000e+00\n",
      "  0.00000000e+00  0.00000000e+00  0.00000000e+00 -4.16108524e-02\n",
      " -2.13495477e-02 -2.51380129e-02 -2.65021209e-03  0.00000000e+00\n",
      "  2.68553852e-03  1.36725848e-02  3.10292925e-02 -0.00000000e+00\n",
      " -4.63368944e-02 -8.93458218e-03 -0.00000000e+00  9.96999764e-03\n",
      "  2.58126794e-02  1.91421927e-02  5.18377169e-04  3.91388102e-03\n",
      " -0.00000000e+00  0.00000000e+00 -0.00000000e+00  0.00000000e+00\n",
      " -0.00000000e+00 -0.00000000e+00 -9.05638967e-03 -3.21019562e-02\n",
      "  0.00000000e+00  0.00000000e+00  0.00000000e+00  0.00000000e+00\n",
      "  0.00000000e+00 -0.00000000e+00 -0.00000000e+00 -0.00000000e+00\n",
      "  0.00000000e+00  8.47228364e-03 -0.00000000e+00  9.07665644e-03\n",
      "  1.25668125e-02 -0.00000000e+00 -0.00000000e+00 -4.73117269e-04\n",
      " -0.00000000e+00  1.13149321e-03 -0.00000000e+00 -0.00000000e+00\n",
      " -2.36593538e-03  0.00000000e+00 -0.00000000e+00  0.00000000e+00\n",
      " -0.00000000e+00 -0.00000000e+00 -0.00000000e+00  0.00000000e+00\n",
      " -0.00000000e+00 -0.00000000e+00 -0.00000000e+00 -4.00829035e-03\n",
      "  2.21372254e-02 -0.00000000e+00  0.00000000e+00 -0.00000000e+00\n",
      "  0.00000000e+00 -0.00000000e+00 -4.05831303e-03  0.00000000e+00\n",
      " -1.13267260e-02 -0.00000000e+00 -0.00000000e+00  0.00000000e+00\n",
      " -0.00000000e+00 -0.00000000e+00  3.07480532e-02 -0.00000000e+00\n",
      "  0.00000000e+00  0.00000000e+00 -0.00000000e+00  0.00000000e+00\n",
      " -0.00000000e+00 -0.00000000e+00 -0.00000000e+00 -0.00000000e+00\n",
      " -0.00000000e+00  3.05668305e-03 -0.00000000e+00  8.13424842e-04\n",
      " -0.00000000e+00 -0.00000000e+00  2.48783219e-02 -0.00000000e+00\n",
      "  0.00000000e+00 -0.00000000e+00 -0.00000000e+00  1.69042684e-02\n",
      "  0.00000000e+00  0.00000000e+00 -0.00000000e+00 -1.47355266e-02\n",
      " -0.00000000e+00  1.75348728e-02  0.00000000e+00  0.00000000e+00\n",
      "  0.00000000e+00 -0.00000000e+00 -0.00000000e+00  0.00000000e+00\n",
      " -2.77671968e-03  0.00000000e+00 -0.00000000e+00]\n",
      "(763,)\n"
     ]
    }
   ],
   "source": [
    "# grid search com LassoCV\n",
    "param_grid = [\n",
    "    {'fit_intercept': [True, False],\n",
    "     'alphas': [np.logspace(-4, 2, 10)]}\n",
    "]\n",
    "\n",
    "lasso_reg = LassoCV(alphas=[1e-4, 1e-3, 1e-2, 1e-1, 1, 10], cv=5, max_iter=10000, tol=0.01, random_state=42)\n",
    "grid_search = GridSearchCV(lasso_reg, param_grid, cv=5, scoring='neg_mean_squared_error', return_train_score=True)\n",
    "grid_search.fit(X_train_prepared, y_train)\n",
    "\n",
    "best_lasso_reg = grid_search.best_estimator_\n",
    "\n",
    "print(grid_search.best_params_)\n",
    "print(grid_search.best_estimator_)\n",
    "print(grid_search.best_estimator_.alpha_)\n",
    "print(grid_search.best_estimator_.intercept_)\n",
    "print(grid_search.best_estimator_.coef_)\n",
    "print(grid_search.best_estimator_.coef_.shape)\n",
    "\n"
   ]
  },
  {
   "cell_type": "code",
   "execution_count": 171,
   "metadata": {},
   "outputs": [
    {
     "name": "stdout",
     "output_type": "stream",
     "text": [
      "{'alphas': array([1.00000000e-04, 4.64158883e-04, 2.15443469e-03, 1.00000000e-02,\n",
      "       4.64158883e-02, 2.15443469e-01, 1.00000000e+00, 4.64158883e+00,\n",
      "       2.15443469e+01, 1.00000000e+02]), 'fit_intercept': True, 'l1_ratio': 0.5}\n",
      "ElasticNetCV(alphas=array([1.00000000e-04, 4.64158883e-04, 2.15443469e-03, 1.00000000e-02,\n",
      "       4.64158883e-02, 2.15443469e-01, 1.00000000e+00, 4.64158883e+00,\n",
      "       2.15443469e+01, 1.00000000e+02]),\n",
      "             cv=5, max_iter=10000, random_state=42, tol=0.01)\n",
      "0.00046415888336127773\n",
      "0.5\n",
      "5.143536608185546\n",
      "[ 5.13375933e-03  9.99323429e-03 -0.00000000e+00  1.20626335e-02\n",
      " -0.00000000e+00 -2.06352297e-03  2.00723381e-02  3.55421375e-02\n",
      "  3.18413104e-02  0.00000000e+00  2.22922216e-02  2.39614188e-03\n",
      "  0.00000000e+00  6.61720992e-03  5.79570835e-03 -3.45243804e-03\n",
      " -3.39604775e-03  0.00000000e+00  8.16723750e-03  1.51640320e-02\n",
      "  8.01393131e-05  4.97623292e-03  3.93248131e-03  1.34885542e-03\n",
      "  0.00000000e+00  4.99644334e-03  0.00000000e+00  0.00000000e+00\n",
      "  3.37087829e-04  1.55597136e-04 -6.69111201e-03 -1.49266078e-02\n",
      " -2.99809946e-02 -0.00000000e+00  2.27019606e-04 -9.54958482e-04\n",
      "  1.12817801e-03 -5.68973440e-04  0.00000000e+00 -0.00000000e+00\n",
      " -7.23660137e-04 -0.00000000e+00  5.93705976e-04 -4.42773912e-06\n",
      "  0.00000000e+00  0.00000000e+00 -2.65210092e-04  0.00000000e+00\n",
      "  3.80468231e-04  0.00000000e+00  1.66754041e-03 -2.84864279e-04\n",
      "  2.15900155e-03 -1.26082624e-03  0.00000000e+00 -6.80271116e-04\n",
      "  1.81619944e-03  2.59969073e-04 -0.00000000e+00 -0.00000000e+00\n",
      " -0.00000000e+00  2.06910400e-04  0.00000000e+00 -0.00000000e+00\n",
      " -2.46112944e-03 -5.84930678e-04  0.00000000e+00  0.00000000e+00\n",
      "  0.00000000e+00  8.80429867e-04 -1.80021566e-03 -2.25496224e-04\n",
      " -2.11493085e-03 -0.00000000e+00 -0.00000000e+00 -5.86889662e-04\n",
      "  9.33413187e-04 -3.32602962e-04 -4.57244240e-06 -0.00000000e+00\n",
      " -9.99183336e-05 -0.00000000e+00 -0.00000000e+00  3.89319398e-04\n",
      "  2.36924745e-03 -3.37744407e-03  7.15374964e-04 -0.00000000e+00\n",
      " -3.95811628e-04  0.00000000e+00  1.35735977e-03  0.00000000e+00\n",
      " -0.00000000e+00 -2.71406367e-03  0.00000000e+00  0.00000000e+00\n",
      "  1.76994269e-03  0.00000000e+00  2.81316931e-03  0.00000000e+00\n",
      " -0.00000000e+00 -0.00000000e+00  4.18522536e-03 -2.21330373e-03\n",
      " -0.00000000e+00  0.00000000e+00 -4.18122830e-04  9.73796667e-04\n",
      "  7.42283851e-04 -1.95230719e-03  7.54186762e-04  0.00000000e+00\n",
      "  1.20567809e-03 -2.81682256e-04  3.38333580e-04 -0.00000000e+00\n",
      "  0.00000000e+00  1.41557756e-03 -7.08645786e-04  0.00000000e+00\n",
      "  0.00000000e+00  0.00000000e+00 -0.00000000e+00 -0.00000000e+00\n",
      "  1.07396564e-03 -1.14719968e-03 -0.00000000e+00  0.00000000e+00\n",
      " -1.57998109e-03  0.00000000e+00  0.00000000e+00 -0.00000000e+00\n",
      " -0.00000000e+00 -3.38021321e-03  1.71316648e-03  6.47534516e-04\n",
      "  0.00000000e+00  3.91537952e-03  0.00000000e+00  0.00000000e+00\n",
      " -1.14650010e-03  4.13044156e-04  0.00000000e+00  0.00000000e+00\n",
      "  1.96022934e-03 -3.20102640e-03  2.82998639e-03 -1.52562541e-03\n",
      " -3.09756125e-03 -3.27238796e-03  0.00000000e+00 -2.46306632e-03\n",
      " -0.00000000e+00  6.14033461e-04  0.00000000e+00 -0.00000000e+00\n",
      " -4.85526462e-04  0.00000000e+00  1.80147302e-03  3.03266143e-04\n",
      "  0.00000000e+00  0.00000000e+00 -0.00000000e+00  1.10104169e-03\n",
      " -0.00000000e+00  0.00000000e+00 -0.00000000e+00 -3.91697423e-04\n",
      " -1.34584317e-03  0.00000000e+00 -0.00000000e+00 -2.67095285e-03\n",
      "  2.44654166e-03 -6.27745301e-05  0.00000000e+00  0.00000000e+00\n",
      " -7.91052995e-04  0.00000000e+00 -1.75316619e-03 -0.00000000e+00\n",
      " -1.04443678e-03 -3.20021169e-05 -1.90295447e-03 -5.40006642e-04\n",
      " -0.00000000e+00 -0.00000000e+00  2.89541222e-05 -0.00000000e+00\n",
      "  0.00000000e+00  0.00000000e+00  0.00000000e+00  0.00000000e+00\n",
      " -1.80205189e-04  1.81346891e-03 -1.20062723e-03 -0.00000000e+00\n",
      "  2.18141410e-04 -0.00000000e+00  8.81243356e-03 -1.87262405e-03\n",
      " -0.00000000e+00 -0.00000000e+00  0.00000000e+00 -3.33049721e-03\n",
      "  2.91013341e-04  0.00000000e+00  3.72150338e-03 -0.00000000e+00\n",
      "  1.19004304e-03  0.00000000e+00 -0.00000000e+00  3.61919428e-03\n",
      "  1.72219436e-03  1.23473382e-03 -0.00000000e+00  0.00000000e+00\n",
      "  7.22701550e-05 -4.06423219e-04  0.00000000e+00 -8.69760433e-04\n",
      " -0.00000000e+00  2.96177879e-03 -1.96159586e-03 -7.90661300e-04\n",
      " -0.00000000e+00 -4.25737214e-03 -0.00000000e+00  0.00000000e+00\n",
      "  0.00000000e+00 -0.00000000e+00 -0.00000000e+00 -7.38291555e-04\n",
      " -0.00000000e+00  0.00000000e+00 -0.00000000e+00  4.50888524e-04\n",
      " -0.00000000e+00  0.00000000e+00  0.00000000e+00  0.00000000e+00\n",
      "  0.00000000e+00 -3.97763710e-03 -2.23801018e-04 -1.31648811e-04\n",
      " -1.25958184e-03 -0.00000000e+00 -7.45236309e-03  1.53575269e-03\n",
      " -0.00000000e+00  4.38341669e-03 -0.00000000e+00 -1.30377180e-03\n",
      " -4.64512070e-05  0.00000000e+00  2.20095849e-03  0.00000000e+00\n",
      " -0.00000000e+00  2.26103480e-03 -3.22120438e-03  0.00000000e+00\n",
      "  0.00000000e+00  0.00000000e+00  6.04128204e-04  0.00000000e+00\n",
      " -0.00000000e+00  0.00000000e+00  0.00000000e+00  0.00000000e+00\n",
      " -0.00000000e+00 -0.00000000e+00  0.00000000e+00 -9.24996841e-05\n",
      " -0.00000000e+00 -3.95082935e-03 -0.00000000e+00  0.00000000e+00\n",
      "  7.61047532e-03 -0.00000000e+00 -2.14764075e-03  0.00000000e+00\n",
      " -0.00000000e+00  3.20118714e-04  0.00000000e+00 -2.67003547e-03\n",
      " -5.80430533e-04  3.54544434e-04  4.15167688e-04 -0.00000000e+00\n",
      " -0.00000000e+00 -0.00000000e+00 -8.19781910e-05  4.01750907e-03\n",
      " -6.69381005e-03  4.63908606e-03  1.75100282e-04  0.00000000e+00\n",
      " -0.00000000e+00 -0.00000000e+00 -3.63208448e-05  0.00000000e+00\n",
      " -0.00000000e+00  7.56025795e-04  0.00000000e+00 -1.22138555e-04\n",
      "  0.00000000e+00  0.00000000e+00 -1.17562975e-03  0.00000000e+00\n",
      " -0.00000000e+00 -0.00000000e+00 -0.00000000e+00 -0.00000000e+00\n",
      " -0.00000000e+00 -9.23951224e-04  1.32240397e-05  0.00000000e+00\n",
      "  0.00000000e+00  0.00000000e+00 -5.22040759e-03  0.00000000e+00\n",
      " -1.96721799e-04  0.00000000e+00  0.00000000e+00  0.00000000e+00\n",
      " -1.61481632e-05 -0.00000000e+00  1.91124029e-03  0.00000000e+00\n",
      "  8.67977290e-03  1.74740884e-03 -5.69803514e-03 -0.00000000e+00\n",
      "  1.86079857e-04  2.42702476e-03  0.00000000e+00 -0.00000000e+00\n",
      " -2.28312196e-03 -0.00000000e+00  0.00000000e+00 -7.88010081e-03\n",
      "  0.00000000e+00  0.00000000e+00 -0.00000000e+00 -1.10295404e-03\n",
      " -0.00000000e+00  1.18061157e-03  1.72733490e-03  0.00000000e+00\n",
      " -4.16164403e-04 -0.00000000e+00  0.00000000e+00 -3.23471191e-04\n",
      "  1.14206443e-04  1.74268873e-03 -5.13894059e-04 -0.00000000e+00\n",
      " -0.00000000e+00  4.38410707e-04 -0.00000000e+00  2.73511804e-04\n",
      "  0.00000000e+00  8.53418881e-04 -3.19701100e-03  4.46284536e-04\n",
      "  1.34579585e-03  0.00000000e+00 -7.62261838e-04 -2.96024087e-04\n",
      " -0.00000000e+00  0.00000000e+00  3.43953432e-04  0.00000000e+00\n",
      "  2.47283018e-04 -0.00000000e+00  0.00000000e+00 -7.30697962e-04\n",
      " -3.59900704e-04 -0.00000000e+00  0.00000000e+00  7.68229123e-04\n",
      "  0.00000000e+00  2.76627073e-03 -2.08972309e-03  1.47611650e-03\n",
      "  9.93381414e-04  2.60353073e-03 -4.24606804e-04  0.00000000e+00\n",
      "  1.87641840e-03 -4.33373751e-04 -4.80840155e-03  0.00000000e+00\n",
      " -0.00000000e+00  1.19975424e-03  0.00000000e+00 -2.01270510e-04\n",
      "  0.00000000e+00 -0.00000000e+00  0.00000000e+00 -9.50799743e-04\n",
      "  2.09331246e-04 -1.03753752e-03  0.00000000e+00  0.00000000e+00\n",
      " -4.98220421e-03 -1.08220018e-03  0.00000000e+00  0.00000000e+00\n",
      "  1.05807131e-03  0.00000000e+00 -8.45949714e-04 -0.00000000e+00\n",
      "  6.21146206e-04 -0.00000000e+00  0.00000000e+00 -3.54590316e-04\n",
      " -0.00000000e+00 -0.00000000e+00  1.82944827e-03 -5.98358544e-04\n",
      "  1.83983035e-04  1.56000885e-03  0.00000000e+00 -3.34991919e-03\n",
      "  0.00000000e+00  1.52638177e-03 -1.41763565e-03 -3.17956904e-03\n",
      "  4.37935549e-03 -1.64438346e-03  1.11663698e-03 -4.08383470e-03\n",
      "  0.00000000e+00 -0.00000000e+00 -0.00000000e+00  3.98109075e-03\n",
      " -1.52845067e-03  1.08508659e-03 -2.40751748e-03  6.57560563e-03\n",
      " -0.00000000e+00 -3.51043234e-07 -1.89902711e-04  0.00000000e+00\n",
      " -5.88151712e-03  3.60021458e-03  4.21492572e-03  0.00000000e+00\n",
      "  2.57762744e-03  0.00000000e+00  0.00000000e+00  0.00000000e+00\n",
      " -2.36832989e-04 -1.24291277e-03 -1.11640046e-03 -0.00000000e+00\n",
      " -2.20507483e-03 -0.00000000e+00  1.97654808e-04  2.75254674e-03\n",
      " -0.00000000e+00  0.00000000e+00 -2.59336268e-03 -0.00000000e+00\n",
      "  0.00000000e+00 -0.00000000e+00 -3.08345892e-03 -0.00000000e+00\n",
      " -0.00000000e+00 -0.00000000e+00 -2.22931995e-04  3.06456288e-03\n",
      " -1.97577505e-03 -5.81179956e-05 -2.13254732e-03  1.36087955e-03\n",
      " -5.49313356e-03  0.00000000e+00  3.73429465e-03  9.62963153e-04\n",
      "  8.60334288e-04  0.00000000e+00 -0.00000000e+00 -2.36168554e-03\n",
      "  6.46991046e-04 -2.82480376e-03 -8.60958190e-04  4.60688779e-03\n",
      "  3.92314027e-04  9.48799975e-04  0.00000000e+00 -1.82264134e-03\n",
      " -0.00000000e+00 -1.32428488e-03 -3.44929199e-04 -0.00000000e+00\n",
      " -0.00000000e+00  0.00000000e+00  7.02863711e-04  2.21247189e-03\n",
      " -0.00000000e+00  6.85212065e-04 -0.00000000e+00 -2.27726341e-03\n",
      " -1.12411400e-03  4.28582835e-03  1.64198820e-03 -0.00000000e+00\n",
      "  3.22280600e-04 -0.00000000e+00  0.00000000e+00  1.18299547e-03\n",
      " -2.31015939e-03 -1.30153570e-02  1.98581776e-03 -8.23909802e-04\n",
      " -1.37072558e-04  1.12895660e-03  5.86450832e-04  0.00000000e+00\n",
      "  9.86789899e-04  1.52711163e-03  0.00000000e+00  1.78463310e-04\n",
      " -6.34886458e-04  2.68136280e-05 -2.87812069e-04 -1.07402072e-03\n",
      "  1.02458385e-04  0.00000000e+00  0.00000000e+00  0.00000000e+00\n",
      "  0.00000000e+00 -0.00000000e+00 -1.04041427e-03  8.18691562e-04\n",
      " -7.79872522e-04 -5.79110397e-04  2.39232915e-03  6.87681581e-04\n",
      " -0.00000000e+00 -4.69161091e-04 -3.30193178e-04 -0.00000000e+00\n",
      " -0.00000000e+00  1.52418355e-03  1.17605826e-03  2.43601526e-03\n",
      " -0.00000000e+00  7.05242212e-05 -0.00000000e+00 -0.00000000e+00\n",
      " -0.00000000e+00  2.33329807e-04 -1.99901848e-03  0.00000000e+00\n",
      "  1.19323171e-03  2.36701044e-04  0.00000000e+00 -1.03014830e-03\n",
      "  1.73604382e-03 -3.79980118e-04  4.20513674e-05  0.00000000e+00\n",
      "  7.91250309e-04  0.00000000e+00 -6.07574530e-05 -0.00000000e+00\n",
      "  0.00000000e+00  0.00000000e+00 -0.00000000e+00  0.00000000e+00\n",
      " -0.00000000e+00  1.58794912e-06 -0.00000000e+00 -2.20586473e-04\n",
      " -0.00000000e+00 -0.00000000e+00 -1.89448559e-03 -2.39660616e-03\n",
      " -1.36753955e-03  0.00000000e+00  3.29650784e-04  0.00000000e+00\n",
      "  4.61862013e-04 -2.08124881e-03 -2.47018417e-04 -2.56017010e-03\n",
      " -1.29550639e-03 -1.22649307e-03 -0.00000000e+00  1.14358916e-02\n",
      " -5.27282919e-03  1.05135398e-03 -0.00000000e+00 -0.00000000e+00\n",
      "  0.00000000e+00 -9.88987633e-03  0.00000000e+00 -0.00000000e+00\n",
      "  1.07346378e-02  0.00000000e+00  0.00000000e+00 -0.00000000e+00\n",
      "  0.00000000e+00  0.00000000e+00 -0.00000000e+00 -2.47411863e-02\n",
      "  0.00000000e+00  0.00000000e+00 -2.54608540e-04  4.84486850e-03\n",
      "  0.00000000e+00  0.00000000e+00  5.75240116e-03 -0.00000000e+00\n",
      " -0.00000000e+00 -8.88213802e-04  0.00000000e+00 -0.00000000e+00\n",
      "  0.00000000e+00  2.07611963e-03  0.00000000e+00 -0.00000000e+00\n",
      "  3.59195439e-02 -1.56528300e-02 -0.00000000e+00  0.00000000e+00\n",
      " -4.36073109e-03 -2.70725097e-03 -3.23391724e-03  0.00000000e+00\n",
      " -0.00000000e+00  3.95255111e-03  3.47103485e-03 -7.16180344e-03\n",
      "  0.00000000e+00 -0.00000000e+00 -5.09017050e-03  1.06630914e-02\n",
      "  1.52186766e-02  0.00000000e+00 -0.00000000e+00 -0.00000000e+00\n",
      " -0.00000000e+00 -0.00000000e+00 -0.00000000e+00  0.00000000e+00\n",
      " -4.84209904e-03 -0.00000000e+00  0.00000000e+00  0.00000000e+00\n",
      "  0.00000000e+00  0.00000000e+00  3.72115494e-02 -1.19776302e-01\n",
      " -4.20824432e-02 -3.18330260e-02 -5.26808776e-03  0.00000000e+00\n",
      "  8.08929688e-03  2.34723727e-02  4.71438687e-02 -4.47652696e-02\n",
      " -5.66750565e-02 -9.69312097e-03 -0.00000000e+00  1.32356309e-02\n",
      "  2.94796218e-02  2.68928565e-02  1.92779580e-02  2.76976960e-03\n",
      " -1.51935460e-04  0.00000000e+00 -0.00000000e+00  1.90758970e-03\n",
      " -0.00000000e+00 -0.00000000e+00 -5.63379852e-03 -3.21705876e-02\n",
      "  0.00000000e+00  0.00000000e+00  0.00000000e+00  0.00000000e+00\n",
      "  7.53556926e-04 -2.37820545e-03 -0.00000000e+00 -0.00000000e+00\n",
      " -0.00000000e+00  1.71168648e-02 -0.00000000e+00  1.48704133e-02\n",
      "  1.33231155e-02 -4.20620027e-03 -0.00000000e+00 -2.26568467e-03\n",
      " -0.00000000e+00  2.59766804e-03 -2.75537635e-03 -0.00000000e+00\n",
      " -6.42799142e-03  0.00000000e+00 -0.00000000e+00  0.00000000e+00\n",
      " -0.00000000e+00 -0.00000000e+00 -0.00000000e+00  0.00000000e+00\n",
      " -4.81734272e-03 -0.00000000e+00 -0.00000000e+00 -4.60535448e-03\n",
      "  2.03241676e-02 -0.00000000e+00  0.00000000e+00 -0.00000000e+00\n",
      " -0.00000000e+00 -3.88778191e-03 -9.10843737e-03  0.00000000e+00\n",
      " -1.35866056e-02 -0.00000000e+00  0.00000000e+00  0.00000000e+00\n",
      " -0.00000000e+00 -0.00000000e+00  2.81397954e-02  0.00000000e+00\n",
      "  0.00000000e+00 -0.00000000e+00 -0.00000000e+00  1.26769629e-03\n",
      " -0.00000000e+00 -0.00000000e+00  0.00000000e+00 -0.00000000e+00\n",
      " -0.00000000e+00  2.77297703e-03 -0.00000000e+00  3.60483304e-03\n",
      " -0.00000000e+00 -0.00000000e+00  3.17553024e-02 -0.00000000e+00\n",
      "  0.00000000e+00 -0.00000000e+00 -0.00000000e+00  2.04439598e-02\n",
      "  0.00000000e+00  0.00000000e+00 -0.00000000e+00 -1.77547608e-02\n",
      " -0.00000000e+00  2.62768780e-02  0.00000000e+00 -0.00000000e+00\n",
      "  3.59127578e-04 -0.00000000e+00 -0.00000000e+00  0.00000000e+00\n",
      " -4.38990701e-03 -0.00000000e+00 -0.00000000e+00]\n",
      "(763,)\n"
     ]
    }
   ],
   "source": [
    "# grid search com ElasticNetCV\n",
    "\n",
    "param_grid = [\n",
    "    {'fit_intercept': [True, False],\n",
    "     'l1_ratio': [0.1, 0.3, 0.5, 0.7, 0.9],\n",
    "     'alphas': [np.logspace(-4, 2, 10)]}\n",
    "]\n",
    "\n",
    "elastic_net_reg = ElasticNetCV(alphas=[1e-4, 1e-3, 1e-2, 1e-1, 1, 10], cv=5, max_iter=10000, tol=0.01, random_state=42)\n",
    "grid_search = GridSearchCV(elastic_net_reg, param_grid, cv=5, scoring='neg_mean_squared_error', return_train_score=True)\n",
    "grid_search.fit(X_train_prepared, y_train)\n",
    "\n",
    "best_elastic_net_reg = grid_search.best_estimator_\n",
    "\n",
    "print(grid_search.best_params_)\n",
    "print(grid_search.best_estimator_)\n",
    "print(grid_search.best_estimator_.alpha_)\n",
    "print(grid_search.best_estimator_.l1_ratio_)\n",
    "print(grid_search.best_estimator_.intercept_)\n",
    "print(grid_search.best_estimator_.coef_)\n",
    "print(grid_search.best_estimator_.coef_.shape)\n",
    "\n"
   ]
  },
  {
   "cell_type": "markdown",
   "metadata": {},
   "source": [
    "### 4. Avaliação do Desempenho\n",
    "TODO:\n",
    "- [ ] Avaliação do desempenho de diferentes modelos\n",
    "- [ ] Análise de resíduos\n",
    "- [ ] Análise de importância de features"
   ]
  },
  {
   "cell_type": "code",
   "execution_count": 172,
   "metadata": {},
   "outputs": [
    {
     "name": "stdout",
     "output_type": "stream",
     "text": [
      "LinearRegression\n",
      "(0.03185950424807982, 0.9655606669145289)\n",
      "RidgeCV\n",
      "(0.042416599834128994, 0.9389552373469494)\n",
      "LassoCV\n"
     ]
    },
    {
     "name": "stdout",
     "output_type": "stream",
     "text": [
      "(0.04376835693011, 0.9350024192276563)\n",
      "ElasticNetCV\n",
      "(0.03907497515479641, 0.948194707922156)\n"
     ]
    }
   ],
   "source": [
    "# Avaliação dos modelos\n",
    "from sklearn.metrics import mean_squared_error, accuracy_score\n",
    "\n",
    "def evaluate_model(model, X, y):\n",
    "    X_prepared = full_pipeline.transform(X)\n",
    "    y_pred = model.predict(X_prepared)\n",
    "    rmse = np.sqrt(mean_squared_error(y, y_pred))\n",
    "    accuracy = model.score(X_prepared, y)\n",
    "    return rmse, accuracy\n",
    "\n",
    "print('LinearRegression')\n",
    "print(evaluate_model(best_lin_reg, X_train, y_train))\n",
    "\n",
    "print('RidgeCV')\n",
    "print(evaluate_model(best_ridge_reg, X_train, y_train))\n",
    "\n",
    "print('LassoCV')\n",
    "print(evaluate_model(best_lasso_reg, X_train, y_train))\n",
    "\n",
    "print('ElasticNetCV')\n",
    "print(evaluate_model(best_elastic_net_reg, X_train, y_train))\n",
    "\n"
   ]
  },
  {
   "cell_type": "code",
   "execution_count": 173,
   "metadata": {},
   "outputs": [
    {
     "name": "stdout",
     "output_type": "stream",
     "text": [
      "LinearRegression\n",
      "Scores: [0.06935585 0.16403259 0.08562699 0.14637662 0.16329437]\n",
      "Mean: 0.12573728469908757\n",
      "Standard deviation: 0.040226232484949026\n",
      "RidgeCV\n",
      "Scores: [0.06552335 0.05743423 0.1117982  0.069768   0.05947771]\n",
      "Mean: 0.07280029917140399\n",
      "Standard deviation: 0.019982956201711363\n",
      "LassoCV\n",
      "Scores: [0.056415   0.05226404 0.07029371 0.06463281 0.04986178]\n",
      "Mean: 0.05869346869900512\n",
      "Standard deviation: 0.007672926776194262\n",
      "ElasticNetCV\n",
      "Scores: [0.05553473 0.0525827  0.06785847 0.06152929 0.05213417]\n",
      "Mean: 0.05792787019730796\n",
      "Standard deviation: 0.0059908591213740795\n"
     ]
    }
   ],
   "source": [
    "# Avaliação dos modelos com validação cruzada\n",
    "from sklearn.model_selection import cross_val_score\n",
    "\n",
    "def evaluate_model_cv(model, X, y):\n",
    "    X_num = X.select_dtypes(include=[np.number])\n",
    "    X_cat = X.select_dtypes(include=['category', 'object']).astype('str')\n",
    "    X = X_num.join(X_cat)\n",
    "    X_prepared = full_pipeline.transform(X)\n",
    "    scores = cross_val_score(model, X_prepared, y, scoring='neg_mean_squared_error', cv=5)\n",
    "    rmse_scores = np.sqrt(-scores)\n",
    "    print(\"Scores:\", rmse_scores)\n",
    "    print(\"Mean:\", rmse_scores.mean())\n",
    "    print(\"Standard deviation:\", rmse_scores.std())\n",
    "    return rmse_scores\n",
    "\n",
    "print('LinearRegression')\n",
    "rmse_scores_lin_reg = evaluate_model_cv(best_lin_reg, X_train, y_train)\n",
    "\n",
    "print('RidgeCV')\n",
    "rmse_scores_ridge_reg = evaluate_model_cv(best_ridge_reg, X_train, y_train)\n",
    "\n",
    "print('LassoCV')\n",
    "rmse_scores_lasso_reg = evaluate_model_cv(best_lasso_reg, X_train, y_train)\n",
    "\n",
    "print('ElasticNetCV')\n",
    "rmse_scores_elastic_net_reg = evaluate_model_cv(best_elastic_net_reg, X_train, y_train)\n",
    "\n"
   ]
  },
  {
   "cell_type": "markdown",
   "metadata": {},
   "source": [
    "Escolha entre LASSO e ElasticNet"
   ]
  },
  {
   "cell_type": "code",
   "execution_count": 174,
   "metadata": {},
   "outputs": [
    {
     "name": "stdout",
     "output_type": "stream",
     "text": [
      "LinearRegression vs RidgeCV\n",
      "0.05555555555555555\n",
      "LinearRegression vs LassoCV\n",
      "0.015873015873015872\n",
      "LinearRegression vs ElasticNetCV\n",
      "0.007936507936507936\n",
      "RidgeCV vs LassoCV\n",
      "0.2222222222222222\n",
      "RidgeCV vs ElasticNetCV\n",
      "0.15079365079365079\n",
      "LassoCV vs ElasticNetCV\n",
      "1.0\n"
     ]
    }
   ],
   "source": [
    "from scipy.stats import mannwhitneyu\n",
    "U, pvalue = mannwhitneyu(rmse_scores_lin_reg, rmse_scores_ridge_reg)\n",
    "print('LinearRegression vs RidgeCV')\n",
    "print(pvalue)\n",
    "\n",
    "U, pvalue = mannwhitneyu(rmse_scores_lin_reg, rmse_scores_lasso_reg)\n",
    "print('LinearRegression vs LassoCV')\n",
    "print(pvalue)\n",
    "\n",
    "U, pvalue = mannwhitneyu(rmse_scores_lin_reg, rmse_scores_elastic_net_reg)\n",
    "print('LinearRegression vs ElasticNetCV')\n",
    "print(pvalue)\n",
    "\n",
    "U, pvalue = mannwhitneyu(rmse_scores_ridge_reg, rmse_scores_lasso_reg)\n",
    "print('RidgeCV vs LassoCV')\n",
    "print(pvalue)\n",
    "\n",
    "U, pvalue = mannwhitneyu(rmse_scores_ridge_reg, rmse_scores_elastic_net_reg)\n",
    "print('RidgeCV vs ElasticNetCV')\n",
    "print(pvalue)\n",
    "\n",
    "U, pvalue = mannwhitneyu(rmse_scores_lasso_reg, rmse_scores_elastic_net_reg)\n",
    "print('LassoCV vs ElasticNetCV')\n",
    "print(pvalue)\n",
    "\n",
    "\n"
   ]
  },
  {
   "cell_type": "code",
   "execution_count": 179,
   "metadata": {},
   "outputs": [
    {
     "name": "stdout",
     "output_type": "stream",
     "text": [
      "0.05296772675492641\n",
      "0.9049801435365025\n"
     ]
    },
    {
     "name": "stderr",
     "output_type": "stream",
     "text": [
      "c:\\Users\\tutuc\\anaconda3\\envs\\ames\\Lib\\site-packages\\sklearn\\preprocessing\\_encoders.py:227: UserWarning: Found unknown categories in columns [25] during transform. These unknown categories will be encoded as all zeros\n",
      "  warnings.warn(\n"
     ]
    }
   ],
   "source": [
    "# Tendo o melhor modelo, treinar com todos os dados de treino e avaliar com os dados de teste\n",
    "from sklearn.metrics import mean_squared_error, accuracy_score\n",
    "\n",
    "best_model = best_elastic_net_reg\n",
    "\n",
    "X_test_num = X_test.select_dtypes(include=[np.number])\n",
    "X_test_cat = X_test.select_dtypes(include=['category', 'object']).astype('str')\n",
    "\n",
    "X_test_prepared = X_test_num.join(X_test_cat)\n",
    "\n",
    "X_test_prepared = full_pipeline.transform(X_test_prepared)\n",
    "\n",
    "y_pred = best_model.predict(X_test_prepared)\n",
    "\n",
    "rmse = np.sqrt(mean_squared_error(y_test, y_pred))\n",
    "accuracy = best_model.score(X_test_prepared, y_test)\n",
    "\n",
    "print(rmse)\n",
    "print(accuracy)\n",
    "\n"
   ]
  }
 ],
 "metadata": {
  "kernelspec": {
   "display_name": "ames",
   "language": "python",
   "name": "python3"
  },
  "language_info": {
   "codemirror_mode": {
    "name": "ipython",
    "version": 3
   },
   "file_extension": ".py",
   "mimetype": "text/x-python",
   "name": "python",
   "nbconvert_exporter": "python",
   "pygments_lexer": "ipython3",
   "version": "3.11.5"
  }
 },
 "nbformat": 4,
 "nbformat_minor": 2
}
